{
 "cells": [
  {
   "cell_type": "markdown",
   "metadata": {},
   "source": [
    "**Background:** Virtually all quantitative research on military conflicts between states rely on *monadic* and *dyadic* features of states to predict/explain the occurence of conflicts. *Monadic* features are those that characterize states in isolation (e.g. whether a state is a democracy and the extent of its military power). *Dyadic* features are those that characterize the relation between state pairs (e.g. the distance between two states or whether they are jointly democratic). Extant research, however, overlooks that conflict might also be affected by the characteristics of the international system as whole. That is, extant research overlooks the potential role of *systemic* features in affecting the possibility of conflict between states.\n",
    "\n",
    "**Aim:** This notebook aims to evaluate the information content of the *systemic* features in relation to interstate conflict. To that end, the predictive performace of two machine learning models are compared with one another. In the first model, the training is made based on the standard combination of monadic and dyadic features. In the second model, the training is made based on the combination of monadic, dyadic, and **systemic** features. The predictive performance of the second model relative to the first model is accordingly taken as an indication of the information content of the systemic features.\n",
    "\n",
    "**Data:** The input data used to carry out the analysis include the largest 10 states in the international system. Each row of data include (1) the monadic and dyadic info on all the 10 states in a given year, and (2) whether the active dyad in the row has experienced a conflict at a specific level of intensity."
   ]
  },
  {
   "cell_type": "code",
   "execution_count": 1,
   "metadata": {},
   "outputs": [],
   "source": [
    "# reset variables\n",
    "%reset -f"
   ]
  },
  {
   "cell_type": "code",
   "execution_count": 2,
   "metadata": {},
   "outputs": [],
   "source": [
    "# all imports necessary for this notebook\n",
    "%matplotlib inline\n",
    "import pandas as pd\n",
    "import numpy as np\n",
    "import matplotlib.pyplot as plt\n",
    "import random\n",
    "from sklearn.model_selection import StratifiedKFold, cross_validate\n",
    "from sklearn.neural_network import MLPClassifier"
   ]
  },
  {
   "cell_type": "code",
   "execution_count": 3,
   "metadata": {},
   "outputs": [],
   "source": [
    "random.seed(12345)\n",
    "np.random.seed(12345)"
   ]
  },
  {
   "cell_type": "code",
   "execution_count": 4,
   "metadata": {},
   "outputs": [],
   "source": [
    "# read data\n",
    "df_master = pd.read_csv('data/Directed complete graph of major powers.csv')"
   ]
  },
  {
   "cell_type": "code",
   "execution_count": 5,
   "metadata": {},
   "outputs": [
    {
     "data": {
      "text/plain": [
       "True"
      ]
     },
     "execution_count": 5,
     "metadata": {},
     "output_type": "execute_result"
    }
   ],
   "source": [
    "# check no missing values exist\n",
    "df_master.isnull().values.any()"
   ]
  },
  {
   "cell_type": "code",
   "execution_count": 6,
   "metadata": {},
   "outputs": [],
   "source": [
    "df_master.dropna(inplace=True)"
   ]
  },
  {
   "cell_type": "code",
   "execution_count": 7,
   "metadata": {},
   "outputs": [
    {
     "data": {
      "text/plain": [
       "(8145, 391)"
      ]
     },
     "execution_count": 7,
     "metadata": {},
     "output_type": "execute_result"
    }
   ],
   "source": [
    "df_master.shape"
   ]
  },
  {
   "cell_type": "code",
   "execution_count": 8,
   "metadata": {},
   "outputs": [
    {
     "data": {
      "text/plain": [
       "array(['year', 'ccode_1', 'stateabb_1', 'statenme_1', 'cinc_1', 'democ_1',\n",
       "       'ccode_2', 'stateabb_2', 'statenme_2', 'cinc_2', 'democ_2',\n",
       "       'ccode_3', 'stateabb_3', 'statenme_3', 'cinc_3', 'democ_3',\n",
       "       'ccode_4', 'stateabb_4', 'statenme_4', 'cinc_4', 'democ_4',\n",
       "       'ccode_5', 'stateabb_5', 'statenme_5', 'cinc_5', 'democ_5',\n",
       "       'ccode_6', 'stateabb_6', 'statenme_6', 'cinc_6', 'democ_6',\n",
       "       'ccode_7', 'stateabb_7', 'statenme_7', 'cinc_7', 'democ_7',\n",
       "       'ccode_8', 'stateabb_8', 'statenme_8', 'cinc_8', 'democ_8',\n",
       "       'ccode_9', 'stateabb_9', 'statenme_9', 'cinc_9', 'democ_9',\n",
       "       'ccode_10', 'stateabb_10', 'statenme_10', 'cinc_10', 'democ_10',\n",
       "       'active_1', 'active_2', 'active_3', 'active_4', 'active_5',\n",
       "       'active_6', 'active_7', 'active_8', 'active_9', 'active_10',\n",
       "       'mid_1_2', 'defense_1_2', 'distance_capital_to_capital_1_2',\n",
       "       'war_1_2', 'contigd_1_2', 'mid_display_force_1_2',\n",
       "       'mid_use_force_1_2', 'mid_1_3', 'defense_1_3',\n",
       "       'distance_capital_to_capital_1_3', 'war_1_3', 'contigd_1_3',\n",
       "       'mid_display_force_1_3', 'mid_use_force_1_3', 'mid_1_4',\n",
       "       'defense_1_4', 'distance_capital_to_capital_1_4', 'war_1_4',\n",
       "       'contigd_1_4', 'mid_display_force_1_4', 'mid_use_force_1_4',\n",
       "       'mid_1_5', 'defense_1_5', 'distance_capital_to_capital_1_5',\n",
       "       'war_1_5', 'contigd_1_5', 'mid_display_force_1_5',\n",
       "       'mid_use_force_1_5', 'mid_1_6', 'defense_1_6',\n",
       "       'distance_capital_to_capital_1_6', 'war_1_6', 'contigd_1_6',\n",
       "       'mid_display_force_1_6', 'mid_use_force_1_6', 'mid_1_7',\n",
       "       'defense_1_7', 'distance_capital_to_capital_1_7', 'war_1_7',\n",
       "       'contigd_1_7', 'mid_display_force_1_7', 'mid_use_force_1_7',\n",
       "       'mid_1_8', 'defense_1_8', 'distance_capital_to_capital_1_8',\n",
       "       'war_1_8', 'contigd_1_8', 'mid_display_force_1_8',\n",
       "       'mid_use_force_1_8', 'mid_1_9', 'defense_1_9',\n",
       "       'distance_capital_to_capital_1_9', 'war_1_9', 'contigd_1_9',\n",
       "       'mid_display_force_1_9', 'mid_use_force_1_9', 'mid_1_10',\n",
       "       'defense_1_10', 'distance_capital_to_capital_1_10', 'war_1_10',\n",
       "       'contigd_1_10', 'mid_display_force_1_10', 'mid_use_force_1_10',\n",
       "       'mid_2_3', 'defense_2_3', 'distance_capital_to_capital_2_3',\n",
       "       'war_2_3', 'contigd_2_3', 'mid_display_force_2_3',\n",
       "       'mid_use_force_2_3', 'mid_2_4', 'defense_2_4',\n",
       "       'distance_capital_to_capital_2_4', 'war_2_4', 'contigd_2_4',\n",
       "       'mid_display_force_2_4', 'mid_use_force_2_4', 'mid_2_5',\n",
       "       'defense_2_5', 'distance_capital_to_capital_2_5', 'war_2_5',\n",
       "       'contigd_2_5', 'mid_display_force_2_5', 'mid_use_force_2_5',\n",
       "       'mid_2_6', 'defense_2_6', 'distance_capital_to_capital_2_6',\n",
       "       'war_2_6', 'contigd_2_6', 'mid_display_force_2_6',\n",
       "       'mid_use_force_2_6', 'mid_2_7', 'defense_2_7',\n",
       "       'distance_capital_to_capital_2_7', 'war_2_7', 'contigd_2_7',\n",
       "       'mid_display_force_2_7', 'mid_use_force_2_7', 'mid_2_8',\n",
       "       'defense_2_8', 'distance_capital_to_capital_2_8', 'war_2_8',\n",
       "       'contigd_2_8', 'mid_display_force_2_8', 'mid_use_force_2_8',\n",
       "       'mid_2_9', 'defense_2_9', 'distance_capital_to_capital_2_9',\n",
       "       'war_2_9', 'contigd_2_9', 'mid_display_force_2_9',\n",
       "       'mid_use_force_2_9', 'mid_2_10', 'defense_2_10',\n",
       "       'distance_capital_to_capital_2_10', 'war_2_10', 'contigd_2_10',\n",
       "       'mid_display_force_2_10', 'mid_use_force_2_10', 'mid_3_4',\n",
       "       'defense_3_4', 'distance_capital_to_capital_3_4', 'war_3_4',\n",
       "       'contigd_3_4', 'mid_display_force_3_4', 'mid_use_force_3_4',\n",
       "       'mid_3_5', 'defense_3_5', 'distance_capital_to_capital_3_5',\n",
       "       'war_3_5', 'contigd_3_5', 'mid_display_force_3_5',\n",
       "       'mid_use_force_3_5', 'mid_3_6', 'defense_3_6',\n",
       "       'distance_capital_to_capital_3_6', 'war_3_6', 'contigd_3_6',\n",
       "       'mid_display_force_3_6', 'mid_use_force_3_6', 'mid_3_7',\n",
       "       'defense_3_7', 'distance_capital_to_capital_3_7', 'war_3_7',\n",
       "       'contigd_3_7', 'mid_display_force_3_7', 'mid_use_force_3_7',\n",
       "       'mid_3_8', 'defense_3_8', 'distance_capital_to_capital_3_8',\n",
       "       'war_3_8', 'contigd_3_8', 'mid_display_force_3_8',\n",
       "       'mid_use_force_3_8', 'mid_3_9', 'defense_3_9',\n",
       "       'distance_capital_to_capital_3_9', 'war_3_9', 'contigd_3_9',\n",
       "       'mid_display_force_3_9', 'mid_use_force_3_9', 'mid_3_10',\n",
       "       'defense_3_10', 'distance_capital_to_capital_3_10', 'war_3_10',\n",
       "       'contigd_3_10', 'mid_display_force_3_10', 'mid_use_force_3_10',\n",
       "       'mid_4_5', 'defense_4_5', 'distance_capital_to_capital_4_5',\n",
       "       'war_4_5', 'contigd_4_5', 'mid_display_force_4_5',\n",
       "       'mid_use_force_4_5', 'mid_4_6', 'defense_4_6',\n",
       "       'distance_capital_to_capital_4_6', 'war_4_6', 'contigd_4_6',\n",
       "       'mid_display_force_4_6', 'mid_use_force_4_6', 'mid_4_7',\n",
       "       'defense_4_7', 'distance_capital_to_capital_4_7', 'war_4_7',\n",
       "       'contigd_4_7', 'mid_display_force_4_7', 'mid_use_force_4_7',\n",
       "       'mid_4_8', 'defense_4_8', 'distance_capital_to_capital_4_8',\n",
       "       'war_4_8', 'contigd_4_8', 'mid_display_force_4_8',\n",
       "       'mid_use_force_4_8', 'mid_4_9', 'defense_4_9',\n",
       "       'distance_capital_to_capital_4_9', 'war_4_9', 'contigd_4_9',\n",
       "       'mid_display_force_4_9', 'mid_use_force_4_9', 'mid_4_10',\n",
       "       'defense_4_10', 'distance_capital_to_capital_4_10', 'war_4_10',\n",
       "       'contigd_4_10', 'mid_display_force_4_10', 'mid_use_force_4_10',\n",
       "       'mid_5_6', 'defense_5_6', 'distance_capital_to_capital_5_6',\n",
       "       'war_5_6', 'contigd_5_6', 'mid_display_force_5_6',\n",
       "       'mid_use_force_5_6', 'mid_5_7', 'defense_5_7',\n",
       "       'distance_capital_to_capital_5_7', 'war_5_7', 'contigd_5_7',\n",
       "       'mid_display_force_5_7', 'mid_use_force_5_7', 'mid_5_8',\n",
       "       'defense_5_8', 'distance_capital_to_capital_5_8', 'war_5_8',\n",
       "       'contigd_5_8', 'mid_display_force_5_8', 'mid_use_force_5_8',\n",
       "       'mid_5_9', 'defense_5_9', 'distance_capital_to_capital_5_9',\n",
       "       'war_5_9', 'contigd_5_9', 'mid_display_force_5_9',\n",
       "       'mid_use_force_5_9', 'mid_5_10', 'defense_5_10',\n",
       "       'distance_capital_to_capital_5_10', 'war_5_10', 'contigd_5_10',\n",
       "       'mid_display_force_5_10', 'mid_use_force_5_10', 'mid_6_7',\n",
       "       'defense_6_7', 'distance_capital_to_capital_6_7', 'war_6_7',\n",
       "       'contigd_6_7', 'mid_display_force_6_7', 'mid_use_force_6_7',\n",
       "       'mid_6_8', 'defense_6_8', 'distance_capital_to_capital_6_8',\n",
       "       'war_6_8', 'contigd_6_8', 'mid_display_force_6_8',\n",
       "       'mid_use_force_6_8', 'mid_6_9', 'defense_6_9',\n",
       "       'distance_capital_to_capital_6_9', 'war_6_9', 'contigd_6_9',\n",
       "       'mid_display_force_6_9', 'mid_use_force_6_9', 'mid_6_10',\n",
       "       'defense_6_10', 'distance_capital_to_capital_6_10', 'war_6_10',\n",
       "       'contigd_6_10', 'mid_display_force_6_10', 'mid_use_force_6_10',\n",
       "       'mid_7_8', 'defense_7_8', 'distance_capital_to_capital_7_8',\n",
       "       'war_7_8', 'contigd_7_8', 'mid_display_force_7_8',\n",
       "       'mid_use_force_7_8', 'mid_7_9', 'defense_7_9',\n",
       "       'distance_capital_to_capital_7_9', 'war_7_9', 'contigd_7_9',\n",
       "       'mid_display_force_7_9', 'mid_use_force_7_9', 'mid_7_10',\n",
       "       'defense_7_10', 'distance_capital_to_capital_7_10', 'war_7_10',\n",
       "       'contigd_7_10', 'mid_display_force_7_10', 'mid_use_force_7_10',\n",
       "       'mid_8_9', 'defense_8_9', 'distance_capital_to_capital_8_9',\n",
       "       'war_8_9', 'contigd_8_9', 'mid_display_force_8_9',\n",
       "       'mid_use_force_8_9', 'mid_8_10', 'defense_8_10',\n",
       "       'distance_capital_to_capital_8_10', 'war_8_10', 'contigd_8_10',\n",
       "       'mid_display_force_8_10', 'mid_use_force_8_10', 'mid_9_10',\n",
       "       'defense_9_10', 'distance_capital_to_capital_9_10', 'war_9_10',\n",
       "       'contigd_9_10', 'mid_display_force_9_10', 'mid_use_force_9_10',\n",
       "       'activated_cinc_max', 'activated_cinc_min', 'activated_ccode_max',\n",
       "       'activated_ccode_min', 'activated_stateabb_max',\n",
       "       'activated_stateabb_min', 'activated_statenme_max',\n",
       "       'activated_statenme_min', 'activated_defense_max_min',\n",
       "       'activated_dist_C_to_C_max_min', 'activated_contigd_max_min',\n",
       "       'activated_war_max_min', 'activated_mid_max_min',\n",
       "       'activated_mid_use_force_max_min',\n",
       "       'activated_mid_dis_force_max_min'], dtype=object)"
      ]
     },
     "execution_count": 8,
     "metadata": {},
     "output_type": "execute_result"
    }
   ],
   "source": [
    "df_master.columns.values"
   ]
  },
  {
   "cell_type": "code",
   "execution_count": 9,
   "metadata": {},
   "outputs": [],
   "source": [
    "model_1_keywords = ('activated_cinc', 'activated_democ', 'activated_defense', 'activated_contigd', 'activated_dist')\n",
    "model_2_keywords = ('cinc', 'democ', 'defense', 'contigd', 'distance')\n",
    "model_1_df = df_master[[col for col in df_master.columns if any(word in col for word in model_1_keywords)]]\n",
    "model_2_df = df_master[[col for col in df_master.columns if any(word in col for word in model_2_keywords)]]"
   ]
  },
  {
   "cell_type": "code",
   "execution_count": 10,
   "metadata": {},
   "outputs": [
    {
     "data": {
      "text/html": [
       "<div>\n",
       "<style scoped>\n",
       "    .dataframe tbody tr th:only-of-type {\n",
       "        vertical-align: middle;\n",
       "    }\n",
       "\n",
       "    .dataframe tbody tr th {\n",
       "        vertical-align: top;\n",
       "    }\n",
       "\n",
       "    .dataframe thead th {\n",
       "        text-align: right;\n",
       "    }\n",
       "</style>\n",
       "<table border=\"1\" class=\"dataframe\">\n",
       "  <thead>\n",
       "    <tr style=\"text-align: right;\">\n",
       "      <th></th>\n",
       "      <th>activated_cinc_max</th>\n",
       "      <th>activated_cinc_min</th>\n",
       "      <th>activated_defense_max_min</th>\n",
       "      <th>activated_dist_C_to_C_max_min</th>\n",
       "      <th>activated_contigd_max_min</th>\n",
       "    </tr>\n",
       "  </thead>\n",
       "  <tbody>\n",
       "    <tr>\n",
       "      <td>0</td>\n",
       "      <td>0.336619</td>\n",
       "      <td>0.164304</td>\n",
       "      <td>1</td>\n",
       "      <td>1555</td>\n",
       "      <td>0</td>\n",
       "    </tr>\n",
       "    <tr>\n",
       "      <td>1</td>\n",
       "      <td>0.336619</td>\n",
       "      <td>0.117286</td>\n",
       "      <td>0</td>\n",
       "      <td>212</td>\n",
       "      <td>1</td>\n",
       "    </tr>\n",
       "    <tr>\n",
       "      <td>2</td>\n",
       "      <td>0.336619</td>\n",
       "      <td>0.086052</td>\n",
       "      <td>1</td>\n",
       "      <td>766</td>\n",
       "      <td>0</td>\n",
       "    </tr>\n",
       "    <tr>\n",
       "      <td>3</td>\n",
       "      <td>0.336619</td>\n",
       "      <td>0.061359</td>\n",
       "      <td>0</td>\n",
       "      <td>1762</td>\n",
       "      <td>0</td>\n",
       "    </tr>\n",
       "    <tr>\n",
       "      <td>4</td>\n",
       "      <td>0.336619</td>\n",
       "      <td>0.052220</td>\n",
       "      <td>1</td>\n",
       "      <td>578</td>\n",
       "      <td>0</td>\n",
       "    </tr>\n",
       "  </tbody>\n",
       "</table>\n",
       "</div>"
      ],
      "text/plain": [
       "   activated_cinc_max  activated_cinc_min  activated_defense_max_min  \\\n",
       "0            0.336619            0.164304                          1   \n",
       "1            0.336619            0.117286                          0   \n",
       "2            0.336619            0.086052                          1   \n",
       "3            0.336619            0.061359                          0   \n",
       "4            0.336619            0.052220                          1   \n",
       "\n",
       "   activated_dist_C_to_C_max_min  activated_contigd_max_min  \n",
       "0                           1555                          0  \n",
       "1                            212                          1  \n",
       "2                            766                          0  \n",
       "3                           1762                          0  \n",
       "4                            578                          0  "
      ]
     },
     "execution_count": 10,
     "metadata": {},
     "output_type": "execute_result"
    }
   ],
   "source": [
    "model_1_df.head()"
   ]
  },
  {
   "cell_type": "code",
   "execution_count": 11,
   "metadata": {},
   "outputs": [
    {
     "data": {
      "text/html": [
       "<div>\n",
       "<style scoped>\n",
       "    .dataframe tbody tr th:only-of-type {\n",
       "        vertical-align: middle;\n",
       "    }\n",
       "\n",
       "    .dataframe tbody tr th {\n",
       "        vertical-align: top;\n",
       "    }\n",
       "\n",
       "    .dataframe thead th {\n",
       "        text-align: right;\n",
       "    }\n",
       "</style>\n",
       "<table border=\"1\" class=\"dataframe\">\n",
       "  <thead>\n",
       "    <tr style=\"text-align: right;\">\n",
       "      <th></th>\n",
       "      <th>cinc_1</th>\n",
       "      <th>democ_1</th>\n",
       "      <th>cinc_2</th>\n",
       "      <th>democ_2</th>\n",
       "      <th>cinc_3</th>\n",
       "      <th>democ_3</th>\n",
       "      <th>cinc_4</th>\n",
       "      <th>democ_4</th>\n",
       "      <th>cinc_5</th>\n",
       "      <th>democ_5</th>\n",
       "      <th>...</th>\n",
       "      <th>defense_8_10</th>\n",
       "      <th>distance_capital_to_capital_8_10</th>\n",
       "      <th>contigd_8_10</th>\n",
       "      <th>defense_9_10</th>\n",
       "      <th>distance_capital_to_capital_9_10</th>\n",
       "      <th>contigd_9_10</th>\n",
       "      <th>activated_cinc_max</th>\n",
       "      <th>activated_cinc_min</th>\n",
       "      <th>activated_defense_max_min</th>\n",
       "      <th>activated_contigd_max_min</th>\n",
       "    </tr>\n",
       "  </thead>\n",
       "  <tbody>\n",
       "    <tr>\n",
       "      <td>0</td>\n",
       "      <td>0.345664</td>\n",
       "      <td>0</td>\n",
       "      <td>0.168719</td>\n",
       "      <td>0.0</td>\n",
       "      <td>0.120437</td>\n",
       "      <td>0.0</td>\n",
       "      <td>0.088364</td>\n",
       "      <td>0.0</td>\n",
       "      <td>0.063008</td>\n",
       "      <td>0.0</td>\n",
       "      <td>...</td>\n",
       "      <td>0</td>\n",
       "      <td>909</td>\n",
       "      <td>0</td>\n",
       "      <td>0</td>\n",
       "      <td>4604</td>\n",
       "      <td>0</td>\n",
       "      <td>0.336619</td>\n",
       "      <td>0.164304</td>\n",
       "      <td>1</td>\n",
       "      <td>0</td>\n",
       "    </tr>\n",
       "    <tr>\n",
       "      <td>1</td>\n",
       "      <td>0.345664</td>\n",
       "      <td>0</td>\n",
       "      <td>0.168719</td>\n",
       "      <td>0.0</td>\n",
       "      <td>0.120437</td>\n",
       "      <td>0.0</td>\n",
       "      <td>0.088364</td>\n",
       "      <td>0.0</td>\n",
       "      <td>0.063008</td>\n",
       "      <td>0.0</td>\n",
       "      <td>...</td>\n",
       "      <td>0</td>\n",
       "      <td>909</td>\n",
       "      <td>0</td>\n",
       "      <td>0</td>\n",
       "      <td>4604</td>\n",
       "      <td>0</td>\n",
       "      <td>0.336619</td>\n",
       "      <td>0.117286</td>\n",
       "      <td>0</td>\n",
       "      <td>1</td>\n",
       "    </tr>\n",
       "    <tr>\n",
       "      <td>2</td>\n",
       "      <td>0.345664</td>\n",
       "      <td>0</td>\n",
       "      <td>0.168719</td>\n",
       "      <td>0.0</td>\n",
       "      <td>0.120437</td>\n",
       "      <td>0.0</td>\n",
       "      <td>0.088364</td>\n",
       "      <td>0.0</td>\n",
       "      <td>0.063008</td>\n",
       "      <td>0.0</td>\n",
       "      <td>...</td>\n",
       "      <td>0</td>\n",
       "      <td>909</td>\n",
       "      <td>0</td>\n",
       "      <td>0</td>\n",
       "      <td>4604</td>\n",
       "      <td>0</td>\n",
       "      <td>0.336619</td>\n",
       "      <td>0.086052</td>\n",
       "      <td>1</td>\n",
       "      <td>0</td>\n",
       "    </tr>\n",
       "    <tr>\n",
       "      <td>3</td>\n",
       "      <td>0.345664</td>\n",
       "      <td>0</td>\n",
       "      <td>0.168719</td>\n",
       "      <td>0.0</td>\n",
       "      <td>0.120437</td>\n",
       "      <td>0.0</td>\n",
       "      <td>0.088364</td>\n",
       "      <td>0.0</td>\n",
       "      <td>0.063008</td>\n",
       "      <td>0.0</td>\n",
       "      <td>...</td>\n",
       "      <td>0</td>\n",
       "      <td>909</td>\n",
       "      <td>0</td>\n",
       "      <td>0</td>\n",
       "      <td>4604</td>\n",
       "      <td>0</td>\n",
       "      <td>0.336619</td>\n",
       "      <td>0.061359</td>\n",
       "      <td>0</td>\n",
       "      <td>0</td>\n",
       "    </tr>\n",
       "    <tr>\n",
       "      <td>4</td>\n",
       "      <td>0.345664</td>\n",
       "      <td>0</td>\n",
       "      <td>0.168719</td>\n",
       "      <td>0.0</td>\n",
       "      <td>0.120437</td>\n",
       "      <td>0.0</td>\n",
       "      <td>0.088364</td>\n",
       "      <td>0.0</td>\n",
       "      <td>0.063008</td>\n",
       "      <td>0.0</td>\n",
       "      <td>...</td>\n",
       "      <td>0</td>\n",
       "      <td>909</td>\n",
       "      <td>0</td>\n",
       "      <td>0</td>\n",
       "      <td>4604</td>\n",
       "      <td>0</td>\n",
       "      <td>0.336619</td>\n",
       "      <td>0.052220</td>\n",
       "      <td>1</td>\n",
       "      <td>0</td>\n",
       "    </tr>\n",
       "  </tbody>\n",
       "</table>\n",
       "<p>5 rows × 159 columns</p>\n",
       "</div>"
      ],
      "text/plain": [
       "     cinc_1  democ_1    cinc_2  democ_2    cinc_3  democ_3    cinc_4  democ_4  \\\n",
       "0  0.345664        0  0.168719      0.0  0.120437      0.0  0.088364      0.0   \n",
       "1  0.345664        0  0.168719      0.0  0.120437      0.0  0.088364      0.0   \n",
       "2  0.345664        0  0.168719      0.0  0.120437      0.0  0.088364      0.0   \n",
       "3  0.345664        0  0.168719      0.0  0.120437      0.0  0.088364      0.0   \n",
       "4  0.345664        0  0.168719      0.0  0.120437      0.0  0.088364      0.0   \n",
       "\n",
       "     cinc_5  democ_5  ...  defense_8_10  distance_capital_to_capital_8_10  \\\n",
       "0  0.063008      0.0  ...             0                               909   \n",
       "1  0.063008      0.0  ...             0                               909   \n",
       "2  0.063008      0.0  ...             0                               909   \n",
       "3  0.063008      0.0  ...             0                               909   \n",
       "4  0.063008      0.0  ...             0                               909   \n",
       "\n",
       "   contigd_8_10  defense_9_10  distance_capital_to_capital_9_10  contigd_9_10  \\\n",
       "0             0             0                              4604             0   \n",
       "1             0             0                              4604             0   \n",
       "2             0             0                              4604             0   \n",
       "3             0             0                              4604             0   \n",
       "4             0             0                              4604             0   \n",
       "\n",
       "   activated_cinc_max  activated_cinc_min  activated_defense_max_min  \\\n",
       "0            0.336619            0.164304                          1   \n",
       "1            0.336619            0.117286                          0   \n",
       "2            0.336619            0.086052                          1   \n",
       "3            0.336619            0.061359                          0   \n",
       "4            0.336619            0.052220                          1   \n",
       "\n",
       "   activated_contigd_max_min  \n",
       "0                          0  \n",
       "1                          1  \n",
       "2                          0  \n",
       "3                          0  \n",
       "4                          0  \n",
       "\n",
       "[5 rows x 159 columns]"
      ]
     },
     "execution_count": 11,
     "metadata": {},
     "output_type": "execute_result"
    }
   ],
   "source": [
    "model_2_df.head()"
   ]
  },
  {
   "cell_type": "code",
   "execution_count": 12,
   "metadata": {},
   "outputs": [
    {
     "data": {
      "text/plain": [
       "<matplotlib.axes._subplots.AxesSubplot at 0xbd2b688>"
      ]
     },
     "execution_count": 12,
     "metadata": {},
     "output_type": "execute_result"
    },
    {
     "data": {
      "image/png": "[encoded data removed]",
      "text/plain": [
       "<Figure size 432x288 with 1 Axes>"
      ]
     },
     "metadata": {
      "needs_background": "light"
     },
     "output_type": "display_data"
    }
   ],
   "source": [
    "dep_var = df_master['activated_mid_max_min']\n",
    "dep_var.hist()"
   ]
  },
  {
   "cell_type": "code",
   "execution_count": 13,
   "metadata": {},
   "outputs": [],
   "source": [
    "clf = MLPClassifier(hidden_layer_sizes = (30, 30, 30))\n",
    "stratkfold = StratifiedKFold(n_splits = 5, shuffle = True, random_state=0)"
   ]
  },
  {
   "cell_type": "code",
   "execution_count": 14,
   "metadata": {},
   "outputs": [
    {
     "data": {
      "text/plain": [
       "0.5220161273875512"
      ]
     },
     "execution_count": 14,
     "metadata": {},
     "output_type": "execute_result"
    }
   ],
   "source": [
    "scores_model_1 = cross_validate(clf, model_1_df, dep_var, cv=stratkfold, n_jobs = -1, scoring='roc_auc')\n",
    "scores_model_1['test_score'].mean()"
   ]
  },
  {
   "cell_type": "code",
   "execution_count": 15,
   "metadata": {},
   "outputs": [
    {
     "data": {
      "text/plain": [
       "0.5835214634976493"
      ]
     },
     "execution_count": 15,
     "metadata": {},
     "output_type": "execute_result"
    }
   ],
   "source": [
    "scores_model_2 = cross_validate(clf, model_2_df, dep_var, cv=stratkfold, n_jobs = -1, scoring='roc_auc')\n",
    "scores_model_2['test_score'].mean()"
   ]
  },
  {
   "cell_type": "code",
   "execution_count": 16,
   "metadata": {},
   "outputs": [
    {
     "name": "stdout",
     "output_type": "stream",
     "text": [
      "Accordingly, the predictive accuracy of model 2 (the systemic model) to that of model 1 is: 1.12\n"
     ]
    }
   ],
   "source": [
    "print(\"Accordingly, the predictive accuracy of model 2 (the systemic model) to that of model 1 is: %.2f\" % (scores_model_2['test_score'].mean() / scores_model_1['test_score'].mean()))"
   ]
  },
  {
   "cell_type": "markdown",
   "metadata": {},
   "source": [
    "### TO BE EXPADED ............."
   ]
  }
 ],
 "metadata": {
  "kernelspec": {
   "display_name": "Python 3",
   "language": "python",
   "name": "python3"
  },
  "language_info": {
   "codemirror_mode": {
    "name": "ipython",
    "version": 3
   },
   "file_extension": ".py",
   "mimetype": "text/x-python",
   "name": "python",
   "nbconvert_exporter": "python",
   "pygments_lexer": "ipython3",
   "version": "3.7.4"
  }
 },
 "nbformat": 4,
 "nbformat_minor": 2
}
